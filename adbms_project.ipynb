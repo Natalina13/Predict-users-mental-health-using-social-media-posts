{
 "cells": [
  {
   "cell_type": "code",
   "execution_count": 12,
   "metadata": {},
   "outputs": [],
   "source": [
    "import codecs, json\n",
    "import pandas as pd\n",
    "from textblob import TextBlob\n",
    "import re\n",
    "import numpy as np\n",
    "from sklearn.model_selection import train_test_split, cross_val_score\n",
    "from sklearn.neighbors import KNeighborsClassifier\n",
    "from sklearn.ensemble import RandomForestClassifier\n",
    "from sklearn.linear_model import LogisticRegression\n",
    "from sklearn.metrics import roc_auc_score, roc_curve\n",
    "from sklearn import metrics\n",
    "import matplotlib.pyplot as plt"
   ]
  },
  {
   "cell_type": "code",
   "execution_count": 13,
   "metadata": {},
   "outputs": [],
   "source": [
    "def clean_tweet(tweet):\n",
    "    return ' '.join(re.sub(\"(@[A-Za-z0-9]+)|([^0-9A-Za-z \\t])|(\\w+:\\/\\S+)\", \" \", tweet).split())\n",
    "\n",
    "def textbl(tweet):\n",
    "    text = clean_tweet(tweet)\n",
    "    analysis = TextBlob(text)\n",
    "    return analysis.sentiment.polarity\n",
    "\n",
    "def sent(tweet):\n",
    "    text = clean_tweet(tweet)\n",
    "    analysis = TextBlob(text)\n",
    "    if analysis.sentiment.polarity > 0.5:\n",
    "        return 0\n",
    "    else:\n",
    "        return 1\n",
    "\n",
    "with codecs.open('C:/Users/lina9/Downloads/grad_studies/adbms/predict for depression/dataset/tweets.json', 'r',\n",
    "                 'utf-8') as f:\n",
    "    tweets = json.load(f, encoding='utf-8')\n",
    "\n",
    "list_tweets = [list(elem.values()) for elem in tweets]\n",
    "list_columns = list(tweets[0].keys())\n",
    "df = pd.DataFrame(list_tweets, columns=list_columns)\n",
    "\n",
    "df['Depressed'] = np.array([str(sent(tweet)) for tweet in df['text']])"
   ]
  },
  {
   "cell_type": "code",
   "execution_count": 14,
   "metadata": {},
   "outputs": [],
   "source": [
    "d = df.drop(['user','text','url','fullname','timestamp','id'], axis=1)\n",
    "\n",
    "y = d.Depressed\n",
    "X = d.drop('Depressed', axis=1)\n",
    "X_train, X_test, y_train, y_test = train_test_split(X, y,test_size=0.3)"
   ]
  },
  {
   "cell_type": "code",
   "execution_count": 20,
   "metadata": {},
   "outputs": [
    {
     "name": "stdout",
     "output_type": "stream",
     "text": [
      "Training Accuracy:\n",
      "80.36\n",
      "Testing Accuracy:\n",
      "68.75\n",
      "Confusion Matrix:\n",
      "[[66 39]\n",
      " [ 6 33]]\n",
      "Classification Matrix:\n",
      "             precision    recall  f1-score   support\n",
      "\n",
      "          0       0.92      0.63      0.75       105\n",
      "          1       0.46      0.85      0.59        39\n",
      "\n",
      "avg / total       0.79      0.69      0.70       144\n",
      "\n",
      "Cross Validation value:\n",
      "0.7653622087132724\n",
      "AUC: 0.559\n"
     ]
    },
    {
     "data": {
      "image/png": "[encoded data removed]",
      "text/plain": [
       "<Figure size 432x288 with 1 Axes>"
      ]
     },
     "metadata": {
      "needs_background": "light"
     },
     "output_type": "display_data"
    }
   ],
   "source": [
    "knn = KNeighborsClassifier(n_neighbors = 5)\n",
    "trained_knn = knn.fit(X_train, y_train)\n",
    "acc_knn = round(knn.score(X_train, y_train) * 100, 2)\n",
    "print(\"Training Accuracy:\")\n",
    "print(acc_knn)\n",
    "test_knn = knn.fit(X_test, y_test)\n",
    "acc_test_knn = round(knn.score(X_test, y_test) * 100, 2)\n",
    "print(\"Testing Accuracy:\")\n",
    "print(acc_test_knn)\n",
    "y_pred = knn.predict(X_test)\n",
    "print(\"Confusion Matrix:\")\n",
    "print(metrics.confusion_matrix(y_test, y_pred))\n",
    "print(\"Classification Matrix:\")\n",
    "print(metrics.classification_report(y_test, y_pred))\n",
    "cross_val = cross_val_score(KNeighborsClassifier(), X, y, scoring='accuracy', cv=10)\n",
    "print(\"Cross Validation value:\")\n",
    "print(cross_val.mean())\n",
    "probs = probability[:, 1]\n",
    "roc = roc_auc_score(y_test.astype(float), probs)\n",
    "print('AUC: %.3f' % roc)\n",
    "fpr, tpr, thresholds = roc_curve(y_test.astype(float), probs)\n",
    "plt.plot([0, 1], [0, 1], linestyle='--')\n",
    "plt.plot(fpr, tpr, marker='.')\n",
    "plt.show()"
   ]
  },
  {
   "cell_type": "code",
   "execution_count": 19,
   "metadata": {},
   "outputs": [
    {
     "name": "stdout",
     "output_type": "stream",
     "text": [
      "Training Accuracy:\n",
      "76.19\n",
      "Testing Accuracy:\n",
      "76.39\n",
      "Confusion Matrix:\n",
      "[[105   0]\n",
      " [ 34   5]]\n",
      "Classification Matrix:\n",
      "             precision    recall  f1-score   support\n",
      "\n",
      "          0       0.76      1.00      0.86       105\n",
      "          1       1.00      0.13      0.23        39\n",
      "\n",
      "avg / total       0.82      0.76      0.69       144\n",
      "\n",
      "Cross Validation value:\n",
      "0.7440946591402519\n",
      "AUC: 0.559\n"
     ]
    },
    {
     "data": {
      "image/png": "[encoded data removed]",
      "text/plain": [
       "<Figure size 432x288 with 1 Axes>"
      ]
     },
     "metadata": {
      "needs_background": "light"
     },
     "output_type": "display_data"
    }
   ],
   "source": [
    "logistic_regression_model = LogisticRegression()\n",
    "trained_logistic_regression_model = logistic_regression_model.fit(X_train, y_train)\n",
    "train_accuracy = round (trained_logistic_regression_model.score(X_train, y_train)*100, 2)\n",
    "print (\"Training Accuracy:\")\n",
    "print(train_accuracy)\n",
    "test_accuracy = round (trained_logistic_regression_model.score(X_test, y_test)*100, 2)\n",
    "print (\"Testing Accuracy:\")\n",
    "print(test_accuracy)\n",
    "probability = logistic_regression_model.predict_proba(X_test)\n",
    "predicted = logistic_regression_model.predict(X_test)\n",
    "print(\"Confusion Matrix:\")\n",
    "print(metrics.confusion_matrix(y_test, predicted))\n",
    "print(\"Classification Matrix:\")\n",
    "print(metrics.classification_report(y_test, predicted))\n",
    "cross_val = cross_val_score(LogisticRegression(), X, y, scoring='accuracy', cv=10)\n",
    "print(\"Cross Validation value:\")\n",
    "print(cross_val.mean())\n",
    "probs = probability[:, 1]\n",
    "roc = roc_auc_score(y_test.astype(float), probs)\n",
    "print('AUC: %.3f' % roc)\n",
    "fpr, tpr, thresholds = roc_curve(y_test.astype(float), probs)\n",
    "plt.plot([0, 1], [0, 1], linestyle='--')\n",
    "plt.plot(fpr, tpr, marker='.')\n",
    "plt.show()"
   ]
  },
  {
   "cell_type": "code",
   "execution_count": 21,
   "metadata": {},
   "outputs": [
    {
     "name": "stdout",
     "output_type": "stream",
     "text": [
      "Training Accuracy:\n",
      "82.14\n",
      "Testing Accuracy:\n",
      "80.56\n",
      "Confusion Matrix:\n",
      "[[102   3]\n",
      " [ 25  14]]\n",
      "Classification Matrix:\n",
      "             precision    recall  f1-score   support\n",
      "\n",
      "          0       0.80      0.97      0.88       105\n",
      "          1       0.82      0.36      0.50        39\n",
      "\n",
      "avg / total       0.81      0.81      0.78       144\n",
      "\n",
      "Cross Validation value:\n",
      "0.7859829570125922\n",
      "AUC: 0.860\n"
     ]
    },
    {
     "data": {
      "image/png": "[encoded data removed]",
      "text/plain": [
       "<Figure size 432x288 with 1 Axes>"
      ]
     },
     "metadata": {
      "needs_background": "light"
     },
     "output_type": "display_data"
    }
   ],
   "source": [
    "random_forest_model = RandomForestClassifier(n_estimators=300)\n",
    "trained_random_forest_model = random_forest_model.fit(X_train, y_train)\n",
    "train_accuracy = round (trained_random_forest_model.score(X_train, y_train)*100, 2)\n",
    "print (\"Training Accuracy:\")\n",
    "print(train_accuracy)\n",
    "test_random_forest_model = random_forest_model.fit(X_test, y_test)\n",
    "test_accuracy = round (test_random_forest_model.score(X_test, y_test)*100, 2)\n",
    "predicted = random_forest_model.predict(X_test)\n",
    "print (\"Testing Accuracy:\")\n",
    "print(test_accuracy)\n",
    "probability = random_forest_model.predict_proba(X_test)\n",
    "predicted = random_forest_model.predict(X_test)\n",
    "print(\"Confusion Matrix:\")\n",
    "print(metrics.confusion_matrix(y_test, predicted))\n",
    "print(\"Classification Matrix:\")\n",
    "print(metrics.classification_report(y_test, predicted))\n",
    "cross_val = cross_val_score(RandomForestClassifier(), X, y, scoring='accuracy', cv=10)\n",
    "print(\"Cross Validation value:\")\n",
    "print(cross_val.mean())\n",
    "probs = probability[:, 1]\n",
    "roc = roc_auc_score(y_test.astype(float), probs)\n",
    "print('AUC: %.3f' % roc)\n",
    "fpr, tpr, thresholds = roc_curve(y_test.astype(float), probs)\n",
    "plt.plot([0, 1], [0, 1], linestyle='--')\n",
    "plt.plot(fpr, tpr, marker='.')\n",
    "plt.show()\n"
   ]
  },
  {
   "cell_type": "code",
   "execution_count": null,
   "metadata": {},
   "outputs": [],
   "source": []
  }
 ],
 "metadata": {
  "kernelspec": {
   "display_name": "Python 3",
   "language": "python",
   "name": "python3"
  },
  "language_info": {
   "codemirror_mode": {
    "name": "ipython",
    "version": 3
   },
   "file_extension": ".py",
   "mimetype": "text/x-python",
   "name": "python",
   "nbconvert_exporter": "python",
   "pygments_lexer": "ipython3",
   "version": "3.7.0"
  }
 },
 "nbformat": 4,
 "nbformat_minor": 2
}
